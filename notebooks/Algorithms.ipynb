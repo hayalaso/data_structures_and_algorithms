{
 "cells": [
  {
   "cell_type": "code",
   "execution_count": 2,
   "metadata": {},
   "outputs": [],
   "source": [
    "def binary_search(input_array, value):\n",
    "    \"\"\"this is efficiency O(log(n))\"\"\"\n",
    "    N=len(input_array)\n",
    "    \n",
    "    imin,imax = 0,N-1\n",
    "    while imin<=imax:\n",
    "        half = int(imax+imin)/2\n",
    "        if value == input_array[half]:\n",
    "            return half\n",
    "        elif value<input_array[half]:\n",
    "            imax = half-1\n",
    "        else:\n",
    "            imin = half+1\n",
    "    \n",
    "    return -1"
   ]
  },
  {
   "cell_type": "code",
   "execution_count": 35,
   "metadata": {},
   "outputs": [],
   "source": [
    "def fibonacci(position):\n",
    "    if position == 0:\n",
    "        return 0\n",
    "    if position == 1:\n",
    "        return 1\n",
    "    else:\n",
    "        fibo = 0\n",
    "        fibo += fibonacci(position-1)+fibonacci(position-2)\n",
    "        return fibo"
   ]
  },
  {
   "cell_type": "code",
   "execution_count": 50,
   "metadata": {},
   "outputs": [
    {
     "data": {
      "text/plain": [
       "144"
      ]
     },
     "execution_count": 50,
     "metadata": {},
     "output_type": "execute_result"
    }
   ],
   "source": [
    "fibonacci(12)"
   ]
  },
  {
   "cell_type": "code",
   "execution_count": 4,
   "metadata": {},
   "outputs": [
    {
     "name": "stdout",
     "output_type": "stream",
     "text": [
      "12\n",
      "12\n",
      "[1, 3, 4, 6, 9, 14, 20, 21, 21, 25, 32, 100]\n"
     ]
    }
   ],
   "source": [
    "def quicksort(array):\n",
    "    ipiv = len(array)-1\n",
    "    pivot = array[ipiv]\n",
    "    #print(array,ipiv)\n",
    "    j=0\n",
    "    while j < ipiv:\n",
    "        if pivot <= array[j]:\n",
    "            array[ipiv]=array[j]\n",
    "            array[j]=array[ipiv-1]\n",
    "            ipiv = ipiv-1\n",
    "            array[ipiv]=pivot\n",
    "           # print(array)\n",
    "        else:\n",
    "            j+=1\n",
    "            #print(array)\n",
    "            continue\n",
    "    #print(ipiv)\n",
    "    a =[]\n",
    "    b=[]\n",
    "    if ipiv ==0:\n",
    "        return array\n",
    "    if ipiv>0 and ipiv<len(array):\n",
    "        \n",
    "        if ipiv==len(array)-1:\n",
    "            a = quicksort(array[:ipiv])\n",
    "        else:\n",
    "            a = quicksort(array[:ipiv])\n",
    "            b = quicksort(array[ipiv+1:])\n",
    "    a.append(array[ipiv])\n",
    "    return a+b\n",
    "    \n",
    "\n",
    "test = [21, 4, 1, 3, 9, 20, 25, 6,32, 21, 14,100]\n",
    "print(len(test))\n",
    "print( len(quicksort(test)))\n",
    "print( quicksort(test))"
   ]
  },
  {
   "cell_type": "code",
   "execution_count": 5,
   "metadata": {},
   "outputs": [
    {
     "data": {
      "text/plain": [
       "[1, 3, 4, 6, 9, 14, 20, 21, 21, 25]"
      ]
     },
     "execution_count": 5,
     "metadata": {},
     "output_type": "execute_result"
    }
   ],
   "source": [
    "test = [21, 4, 1, 3, 9, 20, 25, 6, 21, 14]\n",
    "sorted(test)"
   ]
  },
  {
   "cell_type": "code",
   "execution_count": 97,
   "metadata": {},
   "outputs": [],
   "source": [
    "d=[9]"
   ]
  },
  {
   "cell_type": "code",
   "execution_count": 98,
   "metadata": {},
   "outputs": [
    {
     "data": {
      "text/plain": [
       "9"
      ]
     },
     "execution_count": 98,
     "metadata": {},
     "output_type": "execute_result"
    }
   ],
   "source": [
    "d[0]"
   ]
  },
  {
   "cell_type": "code",
   "execution_count": 124,
   "metadata": {},
   "outputs": [
    {
     "name": "stdout",
     "output_type": "stream",
     "text": [
      "0\n",
      "1\n",
      "2\n",
      "3\n",
      "4\n",
      "5\n",
      "6\n",
      "7\n",
      "8\n",
      "9\n",
      "10\n",
      "11\n",
      "12\n",
      "13\n",
      "14\n",
      "15\n",
      "16\n",
      "17\n",
      "18\n",
      "19\n",
      "20\n",
      "21\n",
      "22\n",
      "23\n",
      "24\n",
      "25\n",
      "26\n",
      "27\n",
      "28\n",
      "29\n",
      "30\n",
      "31\n",
      "32\n",
      "33\n",
      "34\n",
      "35\n",
      "36\n",
      "37\n",
      "38\n",
      "39\n",
      "40\n",
      "41\n",
      "42\n",
      "43\n",
      "44\n",
      "45\n",
      "46\n",
      "47\n",
      "48\n",
      "49\n",
      "50\n",
      "51\n",
      "52\n",
      "53\n",
      "54\n",
      "55\n",
      "56\n",
      "57\n",
      "58\n",
      "59\n",
      "60\n",
      "61\n",
      "62\n",
      "63\n",
      "64\n",
      "65\n",
      "66\n",
      "67\n",
      "68\n",
      "69\n",
      "70\n",
      "71\n",
      "72\n",
      "73\n",
      "74\n",
      "75\n",
      "76\n",
      "77\n",
      "78\n",
      "79\n",
      "80\n",
      "81\n",
      "82\n",
      "83\n",
      "84\n",
      "85\n",
      "86\n",
      "0\n",
      "1\n",
      "2\n",
      "3\n",
      "4\n",
      "5\n",
      "6\n",
      "7\n",
      "8\n",
      "9\n",
      "10\n",
      "11\n",
      "12\n"
     ]
    }
   ],
   "source": [
    "for i in range(0,100):\n",
    "    print(i%87)"
   ]
  },
  {
   "cell_type": "code",
   "execution_count": null,
   "metadata": {},
   "outputs": [],
   "source": []
  }
 ],
 "metadata": {
  "kernelspec": {
   "display_name": "Python 3",
   "language": "python",
   "name": "python3"
  },
  "language_info": {
   "codemirror_mode": {
    "name": "ipython",
    "version": 3
   },
   "file_extension": ".py",
   "mimetype": "text/x-python",
   "name": "python",
   "nbconvert_exporter": "python",
   "pygments_lexer": "ipython3",
   "version": "3.7.1"
  }
 },
 "nbformat": 4,
 "nbformat_minor": 4
}
